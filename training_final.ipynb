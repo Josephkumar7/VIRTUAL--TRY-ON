{
 "cells": [
  {
   "cell_type": "code",
   "execution_count": 1,
   "id": "dc5eac3d-4cc3-4da6-8a6e-4feb6fba7c00",
   "metadata": {},
   "outputs": [],
   "source": [
    "import sys\n",
    "sys.path.append(r\"C:\\Users\\kandu\\VITON-HD\")"
   ]
  },
  {
   "cell_type": "code",
   "execution_count": 2,
   "id": "4fe64fdf-f0bd-4496-8a23-95e2de34377f",
   "metadata": {},
   "outputs": [],
   "source": [
    "import os\n",
    "import torch\n",
    "import torch.optim as optim\n",
    "from datasets import VITONDataset, VITONDataLoader\n",
    "from networks import SegGenerator, GMM, ALIASGenerator\n",
    "# Paths\n",
    "data_path = \"C:/Joseph\"\n",
    "checkpoint_dir = \"C:/Users/kandu/VITON-HD/checkpoints\"\n",
    "os.makedirs(checkpoint_dir, exist_ok=True)\n",
    "\n",
    "opt = type('opt', (object,), {})()  \n",
    "opt.dataset_dir = data_path\n",
    "opt.dataset_list = \"C:/Joseph/train_pairs.txt\"\n",
    "opt.load_height = 1024\n",
    "opt.load_width = 768\n",
    "opt.semantic_nc = 13\n",
    "opt.ngf = 64\n",
    "opt.num_upsampling_layers = 'most'\n",
    "opt.init_type = 'normal'\n",
    "opt.init_variance = 0.02\n",
    "opt.dataset_mode = \"train\"\n",
    "opt.shuffle = True  \n",
    "opt.batch_size = 1  \n",
    "opt.workers = 1  \n",
    "opt.grid_size = 8 \n",
    "opt.norm_G = 'aliasmask'"
   ]
  },
  {
   "cell_type": "code",
   "execution_count": 3,
   "id": "c5ed8338-5777-4ed3-b419-60051bef9a78",
   "metadata": {},
   "outputs": [
    {
     "name": "stdout",
     "output_type": "stream",
     "text": [
      "Network [SegGenerator] was created. Total number of parameters: 34.5 million. To see the architecture, do print(network).\n",
      "Network [ALIASGenerator] was created. Total number of parameters: 100.7 million. To see the architecture, do print(network).\n"
     ]
    }
   ],
   "source": [
    "dataset = VITONDataset(opt)\n",
    "data_loader = VITONDataLoader(opt, dataset)\n",
    "device = torch.device(\"cuda\" if torch.cuda.is_available() else \"cpu\")\n",
    "seg = SegGenerator(opt, input_nc=opt.semantic_nc + 8, output_nc=opt.semantic_nc).to(device)\n",
    "gmm = GMM(opt, inputA_nc=7, inputB_nc=3).to(device)\n",
    "alias = ALIASGenerator(opt, input_nc=9).to(device)"
   ]
  },
  {
   "cell_type": "code",
   "execution_count": 4,
   "id": "e18c180e-406c-4700-a857-2ab1697e3e63",
   "metadata": {},
   "outputs": [],
   "source": [
    "learning_rate = 0.0002  \n",
    "optimizer_G = optim.Adam(seg.parameters(), lr=learning_rate)\n",
    "optimizer_GMM = optim.Adam(gmm.parameters(), lr=learning_rate)\n",
    "optimizer_alias = optim.Adam(alias.parameters(), lr=learning_rate)"
   ]
  },
  {
   "cell_type": "code",
   "execution_count": 5,
   "id": "3dfdadb7-a70d-47c1-b648-dfa413e9e03f",
   "metadata": {},
   "outputs": [
    {
     "name": "stdout",
     "output_type": "stream",
     "text": [
      "Epoch [1/10], Step [10/25]\n",
      "Epoch [1/10], Step [20/25]\n",
      "Epoch [2/10], Step [10/25]\n",
      "Epoch [2/10], Step [20/25]\n",
      "Epoch [3/10], Step [10/25]\n",
      "Epoch [3/10], Step [20/25]\n",
      "Epoch [4/10], Step [10/25]\n",
      "Epoch [4/10], Step [20/25]\n",
      "Epoch [5/10], Step [10/25]\n",
      "Epoch [5/10], Step [20/25]\n",
      "Epoch [6/10], Step [10/25]\n",
      "Epoch [6/10], Step [20/25]\n",
      "Epoch [7/10], Step [10/25]\n",
      "Epoch [7/10], Step [20/25]\n",
      "Epoch [8/10], Step [10/25]\n",
      "Epoch [8/10], Step [20/25]\n",
      "Epoch [9/10], Step [10/25]\n",
      "Epoch [9/10], Step [20/25]\n",
      "Epoch [10/10], Step [10/25]\n",
      "Epoch [10/10], Step [20/25]\n",
      "Training complete!\n"
     ]
    }
   ],
   "source": [
    "num_epochs = 10 \n",
    "for epoch in range(num_epochs):\n",
    "    for i, inputs in enumerate(data_loader.data_loader):\n",
    "        img_agnostic = inputs['img_agnostic'].to(device)\n",
    "\n",
    "        if (i + 1) % 10 == 0:\n",
    "            print(f'Epoch [{epoch + 1}/{num_epochs}], Step [{i + 1}/{len(data_loader.data_loader)}]')\n",
    "\n",
    "    # Save checkpoints at the end of each epoch\n",
    "    torch.save(seg.state_dict(), os.path.join(checkpoint_dir, 'seg_trail.pth'))\n",
    "    torch.save(gmm.state_dict(), os.path.join(checkpoint_dir, 'gmm_trail.pth'))\n",
    "    torch.save(alias.state_dict(), os.path.join(checkpoint_dir, 'alias_trail.pth'))\n",
    "\n",
    "print(\"Training complete!\")"
   ]
  },
  {
   "cell_type": "code",
   "execution_count": null,
   "id": "0a210177-9721-4c90-b277-43e4b299d57e",
   "metadata": {},
   "outputs": [],
   "source": []
  }
 ],
 "metadata": {
  "kernelspec": {
   "display_name": "Python 3 (ipykernel)",
   "language": "python",
   "name": "python3"
  },
  "language_info": {
   "codemirror_mode": {
    "name": "ipython",
    "version": 3
   },
   "file_extension": ".py",
   "mimetype": "text/x-python",
   "name": "python",
   "nbconvert_exporter": "python",
   "pygments_lexer": "ipython3",
   "version": "3.10.15"
  }
 },
 "nbformat": 4,
 "nbformat_minor": 5
}
